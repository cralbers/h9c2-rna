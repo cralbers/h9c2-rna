{
 "cells": [
  {
   "cell_type": "code",
   "execution_count": 29,
   "id": "1863d188",
   "metadata": {
    "ExecuteTime": {
     "end_time": "2025-02-06T19:02:00.676631Z",
     "start_time": "2025-02-06T19:02:00.663405Z"
    }
   },
   "outputs": [],
   "source": [
    "import pandas as pd\n",
    "import numpy as np"
   ]
  },
  {
   "cell_type": "code",
   "execution_count": 23,
   "id": "756adf30",
   "metadata": {
    "ExecuteTime": {
     "end_time": "2025-02-06T18:59:31.971138Z",
     "start_time": "2025-02-06T18:59:31.879547Z"
    }
   },
   "outputs": [
    {
     "data": {
      "text/html": [
       "<div>\n",
       "<style scoped>\n",
       "    .dataframe tbody tr th:only-of-type {\n",
       "        vertical-align: middle;\n",
       "    }\n",
       "\n",
       "    .dataframe tbody tr th {\n",
       "        vertical-align: top;\n",
       "    }\n",
       "\n",
       "    .dataframe thead th {\n",
       "        text-align: right;\n",
       "    }\n",
       "</style>\n",
       "<table border=\"1\" class=\"dataframe\">\n",
       "  <thead>\n",
       "    <tr style=\"text-align: right;\">\n",
       "      <th></th>\n",
       "      <th>0</th>\n",
       "      <th>1</th>\n",
       "    </tr>\n",
       "  </thead>\n",
       "  <tbody>\n",
       "    <tr>\n",
       "      <th>0</th>\n",
       "      <td>&gt; fc &lt;- featureCounts(files=filelist, annot.ex...</td>\n",
       "      <td>isPairedEnd=TRUE)</td>\n",
       "    </tr>\n",
       "    <tr>\n",
       "      <th>1</th>\n",
       "      <td>==========     _____ _    _ ____  _____  _____...</td>\n",
       "      <td>NaN</td>\n",
       "    </tr>\n",
       "    <tr>\n",
       "      <th>2</th>\n",
       "      <td>=====         / ____| |  | |  _ \\|  __ \\|  ___...</td>\n",
       "      <td>NaN</td>\n",
       "    </tr>\n",
       "    <tr>\n",
       "      <th>3</th>\n",
       "      <td>=====      | (___ | |  | | |_) | |__) | |__   ...</td>\n",
       "      <td>NaN</td>\n",
       "    </tr>\n",
       "    <tr>\n",
       "      <th>4</th>\n",
       "      <td>====      \\___ \\| |  | |  _ &lt;|  _  /|  __|   /...</td>\n",
       "      <td>NaN</td>\n",
       "    </tr>\n",
       "    <tr>\n",
       "      <th>...</th>\n",
       "      <td>...</td>\n",
       "      <td>...</td>\n",
       "    </tr>\n",
       "    <tr>\n",
       "      <th>156</th>\n",
       "      <td>||                                            ...</td>\n",
       "      <td>NaN</td>\n",
       "    </tr>\n",
       "    <tr>\n",
       "      <th>157</th>\n",
       "      <td>|| Write the final count table.               ...</td>\n",
       "      <td>NaN</td>\n",
       "    </tr>\n",
       "    <tr>\n",
       "      <th>158</th>\n",
       "      <td>|| Write the read assignment summary.         ...</td>\n",
       "      <td>NaN</td>\n",
       "    </tr>\n",
       "    <tr>\n",
       "      <th>159</th>\n",
       "      <td>||                                            ...</td>\n",
       "      <td>NaN</td>\n",
       "    </tr>\n",
       "    <tr>\n",
       "      <th>160</th>\n",
       "      <td>\\\\============================================...</td>\n",
       "      <td>NaN</td>\n",
       "    </tr>\n",
       "  </tbody>\n",
       "</table>\n",
       "<p>161 rows × 2 columns</p>\n",
       "</div>"
      ],
      "text/plain": [
       "                                                     0                  1\n",
       "0    > fc <- featureCounts(files=filelist, annot.ex...  isPairedEnd=TRUE)\n",
       "1    ==========     _____ _    _ ____  _____  _____...                NaN\n",
       "2    =====         / ____| |  | |  _ \\|  __ \\|  ___...                NaN\n",
       "3    =====      | (___ | |  | | |_) | |__) | |__   ...                NaN\n",
       "4    ====      \\___ \\| |  | |  _ <|  _  /|  __|   /...                NaN\n",
       "..                                                 ...                ...\n",
       "156  ||                                            ...                NaN\n",
       "157  || Write the final count table.               ...                NaN\n",
       "158  || Write the read assignment summary.         ...                NaN\n",
       "159  ||                                            ...                NaN\n",
       "160  \\\\============================================...                NaN\n",
       "\n",
       "[161 rows x 2 columns]"
      ]
     },
     "execution_count": 23,
     "metadata": {},
     "output_type": "execute_result"
    }
   ],
   "source": [
    "file = 'fc_basic_info.txt'\n",
    "df = pd.read_fwf(file, sep=\"||\", header=None)\n",
    "df\n",
    "\n",
    "\n"
   ]
  },
  {
   "cell_type": "code",
   "execution_count": 31,
   "id": "eccbc9b6",
   "metadata": {
    "ExecuteTime": {
     "end_time": "2025-02-06T19:04:04.108468Z",
     "start_time": "2025-02-06T19:04:04.054494Z"
    }
   },
   "outputs": [
    {
     "name": "stdout",
     "output_type": "stream",
     "text": [
      "average percent alignment:  79.8888888888889\n"
     ]
    }
   ],
   "source": [
    "search_string = \"Successfully assigned alignments\"\n",
    "percents = []\n",
    "for idx, row in df.iterrows():\n",
    "    line = row[0]\n",
    "#     print(line)\n",
    "    if search_string in line:\n",
    "        perc_start = line.index(\"(\")\n",
    "        perc_end = line.index(')')\n",
    "        percent = float(line[perc_start+1:perc_end-1])\n",
    "        percents.append(percent)\n",
    "        \n",
    "percents\n",
    "avg_percent = np.mean(percents)\n",
    "print(\"average percent alignment: \", avg_percent)"
   ]
  },
  {
   "cell_type": "code",
   "execution_count": null,
   "id": "fdc7b44c",
   "metadata": {},
   "outputs": [],
   "source": []
  }
 ],
 "metadata": {
  "kernelspec": {
   "display_name": "Python 3 (ipykernel)",
   "language": "python",
   "name": "python3"
  },
  "language_info": {
   "codemirror_mode": {
    "name": "ipython",
    "version": 3
   },
   "file_extension": ".py",
   "mimetype": "text/x-python",
   "name": "python",
   "nbconvert_exporter": "python",
   "pygments_lexer": "ipython3",
   "version": "3.11.5"
  },
  "toc": {
   "base_numbering": 1,
   "nav_menu": {},
   "number_sections": true,
   "sideBar": true,
   "skip_h1_title": false,
   "title_cell": "Table of Contents",
   "title_sidebar": "Contents",
   "toc_cell": false,
   "toc_position": {},
   "toc_section_display": true,
   "toc_window_display": false
  }
 },
 "nbformat": 4,
 "nbformat_minor": 5
}
