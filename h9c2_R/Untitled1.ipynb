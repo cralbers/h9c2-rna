{
 "cells": [
  {
   "cell_type": "code",
   "execution_count": 2,
   "id": "e989e48b-6bda-4782-a90f-1f94904fbee7",
   "metadata": {
    "ExecuteTime": {
     "end_time": "2025-02-18T02:23:20.333853Z",
     "start_time": "2025-02-18T02:23:19.715Z"
    }
   },
   "outputs": [],
   "source": [
    "library(limma)\n",
    "library()"
   ]
  },
  {
   "cell_type": "code",
   "execution_count": null,
   "id": "7599ca79",
   "metadata": {},
   "outputs": [],
   "source": []
  }
 ],
 "metadata": {
  "kernelspec": {
   "display_name": "R",
   "language": "R",
   "name": "ir"
  },
  "toc": {
   "base_numbering": 1,
   "nav_menu": {},
   "number_sections": true,
   "sideBar": true,
   "skip_h1_title": false,
   "title_cell": "Table of Contents",
   "title_sidebar": "Contents",
   "toc_cell": false,
   "toc_position": {},
   "toc_section_display": true,
   "toc_window_display": false
  }
 },
 "nbformat": 4,
 "nbformat_minor": 5
}
